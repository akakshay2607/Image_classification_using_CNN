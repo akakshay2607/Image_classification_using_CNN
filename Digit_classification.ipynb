{
 "cells": [
  {
   "cell_type": "code",
   "execution_count": 1,
   "id": "7e6eacd9",
   "metadata": {},
   "outputs": [],
   "source": [
    "import pandas as pd"
   ]
  },
  {
   "cell_type": "code",
   "execution_count": 2,
   "id": "07da40db",
   "metadata": {},
   "outputs": [],
   "source": [
    "A = pd.read_csv(\"C:/Users/akaks/Downloads/digitsnpixels.csv\")"
   ]
  },
  {
   "cell_type": "code",
   "execution_count": 4,
   "id": "6f4dbe4e",
   "metadata": {},
   "outputs": [
    {
     "data": {
      "text/html": [
       "<div>\n",
       "<style scoped>\n",
       "    .dataframe tbody tr th:only-of-type {\n",
       "        vertical-align: middle;\n",
       "    }\n",
       "\n",
       "    .dataframe tbody tr th {\n",
       "        vertical-align: top;\n",
       "    }\n",
       "\n",
       "    .dataframe thead th {\n",
       "        text-align: right;\n",
       "    }\n",
       "</style>\n",
       "<table border=\"1\" class=\"dataframe\">\n",
       "  <thead>\n",
       "    <tr style=\"text-align: right;\">\n",
       "      <th></th>\n",
       "      <th>label</th>\n",
       "      <th>pixel0</th>\n",
       "      <th>pixel1</th>\n",
       "      <th>pixel2</th>\n",
       "      <th>pixel3</th>\n",
       "      <th>pixel4</th>\n",
       "      <th>pixel5</th>\n",
       "      <th>pixel6</th>\n",
       "      <th>pixel7</th>\n",
       "      <th>pixel8</th>\n",
       "      <th>...</th>\n",
       "      <th>pixel774</th>\n",
       "      <th>pixel775</th>\n",
       "      <th>pixel776</th>\n",
       "      <th>pixel777</th>\n",
       "      <th>pixel778</th>\n",
       "      <th>pixel779</th>\n",
       "      <th>pixel780</th>\n",
       "      <th>pixel781</th>\n",
       "      <th>pixel782</th>\n",
       "      <th>pixel783</th>\n",
       "    </tr>\n",
       "  </thead>\n",
       "  <tbody>\n",
       "    <tr>\n",
       "      <th>0</th>\n",
       "      <td>1</td>\n",
       "      <td>0</td>\n",
       "      <td>0</td>\n",
       "      <td>0</td>\n",
       "      <td>0</td>\n",
       "      <td>0</td>\n",
       "      <td>0</td>\n",
       "      <td>0</td>\n",
       "      <td>0</td>\n",
       "      <td>0</td>\n",
       "      <td>...</td>\n",
       "      <td>0</td>\n",
       "      <td>0</td>\n",
       "      <td>0</td>\n",
       "      <td>0</td>\n",
       "      <td>0</td>\n",
       "      <td>0</td>\n",
       "      <td>0</td>\n",
       "      <td>0</td>\n",
       "      <td>0</td>\n",
       "      <td>0</td>\n",
       "    </tr>\n",
       "    <tr>\n",
       "      <th>1</th>\n",
       "      <td>0</td>\n",
       "      <td>0</td>\n",
       "      <td>0</td>\n",
       "      <td>0</td>\n",
       "      <td>0</td>\n",
       "      <td>0</td>\n",
       "      <td>0</td>\n",
       "      <td>0</td>\n",
       "      <td>0</td>\n",
       "      <td>0</td>\n",
       "      <td>...</td>\n",
       "      <td>0</td>\n",
       "      <td>0</td>\n",
       "      <td>0</td>\n",
       "      <td>0</td>\n",
       "      <td>0</td>\n",
       "      <td>0</td>\n",
       "      <td>0</td>\n",
       "      <td>0</td>\n",
       "      <td>0</td>\n",
       "      <td>0</td>\n",
       "    </tr>\n",
       "    <tr>\n",
       "      <th>2</th>\n",
       "      <td>1</td>\n",
       "      <td>0</td>\n",
       "      <td>0</td>\n",
       "      <td>0</td>\n",
       "      <td>0</td>\n",
       "      <td>0</td>\n",
       "      <td>0</td>\n",
       "      <td>0</td>\n",
       "      <td>0</td>\n",
       "      <td>0</td>\n",
       "      <td>...</td>\n",
       "      <td>0</td>\n",
       "      <td>0</td>\n",
       "      <td>0</td>\n",
       "      <td>0</td>\n",
       "      <td>0</td>\n",
       "      <td>0</td>\n",
       "      <td>0</td>\n",
       "      <td>0</td>\n",
       "      <td>0</td>\n",
       "      <td>0</td>\n",
       "    </tr>\n",
       "    <tr>\n",
       "      <th>3</th>\n",
       "      <td>4</td>\n",
       "      <td>0</td>\n",
       "      <td>0</td>\n",
       "      <td>0</td>\n",
       "      <td>0</td>\n",
       "      <td>0</td>\n",
       "      <td>0</td>\n",
       "      <td>0</td>\n",
       "      <td>0</td>\n",
       "      <td>0</td>\n",
       "      <td>...</td>\n",
       "      <td>0</td>\n",
       "      <td>0</td>\n",
       "      <td>0</td>\n",
       "      <td>0</td>\n",
       "      <td>0</td>\n",
       "      <td>0</td>\n",
       "      <td>0</td>\n",
       "      <td>0</td>\n",
       "      <td>0</td>\n",
       "      <td>0</td>\n",
       "    </tr>\n",
       "    <tr>\n",
       "      <th>4</th>\n",
       "      <td>0</td>\n",
       "      <td>0</td>\n",
       "      <td>0</td>\n",
       "      <td>0</td>\n",
       "      <td>0</td>\n",
       "      <td>0</td>\n",
       "      <td>0</td>\n",
       "      <td>0</td>\n",
       "      <td>0</td>\n",
       "      <td>0</td>\n",
       "      <td>...</td>\n",
       "      <td>0</td>\n",
       "      <td>0</td>\n",
       "      <td>0</td>\n",
       "      <td>0</td>\n",
       "      <td>0</td>\n",
       "      <td>0</td>\n",
       "      <td>0</td>\n",
       "      <td>0</td>\n",
       "      <td>0</td>\n",
       "      <td>0</td>\n",
       "    </tr>\n",
       "    <tr>\n",
       "      <th>...</th>\n",
       "      <td>...</td>\n",
       "      <td>...</td>\n",
       "      <td>...</td>\n",
       "      <td>...</td>\n",
       "      <td>...</td>\n",
       "      <td>...</td>\n",
       "      <td>...</td>\n",
       "      <td>...</td>\n",
       "      <td>...</td>\n",
       "      <td>...</td>\n",
       "      <td>...</td>\n",
       "      <td>...</td>\n",
       "      <td>...</td>\n",
       "      <td>...</td>\n",
       "      <td>...</td>\n",
       "      <td>...</td>\n",
       "      <td>...</td>\n",
       "      <td>...</td>\n",
       "      <td>...</td>\n",
       "      <td>...</td>\n",
       "      <td>...</td>\n",
       "    </tr>\n",
       "    <tr>\n",
       "      <th>41995</th>\n",
       "      <td>0</td>\n",
       "      <td>0</td>\n",
       "      <td>0</td>\n",
       "      <td>0</td>\n",
       "      <td>0</td>\n",
       "      <td>0</td>\n",
       "      <td>0</td>\n",
       "      <td>0</td>\n",
       "      <td>0</td>\n",
       "      <td>0</td>\n",
       "      <td>...</td>\n",
       "      <td>0</td>\n",
       "      <td>0</td>\n",
       "      <td>0</td>\n",
       "      <td>0</td>\n",
       "      <td>0</td>\n",
       "      <td>0</td>\n",
       "      <td>0</td>\n",
       "      <td>0</td>\n",
       "      <td>0</td>\n",
       "      <td>0</td>\n",
       "    </tr>\n",
       "    <tr>\n",
       "      <th>41996</th>\n",
       "      <td>1</td>\n",
       "      <td>0</td>\n",
       "      <td>0</td>\n",
       "      <td>0</td>\n",
       "      <td>0</td>\n",
       "      <td>0</td>\n",
       "      <td>0</td>\n",
       "      <td>0</td>\n",
       "      <td>0</td>\n",
       "      <td>0</td>\n",
       "      <td>...</td>\n",
       "      <td>0</td>\n",
       "      <td>0</td>\n",
       "      <td>0</td>\n",
       "      <td>0</td>\n",
       "      <td>0</td>\n",
       "      <td>0</td>\n",
       "      <td>0</td>\n",
       "      <td>0</td>\n",
       "      <td>0</td>\n",
       "      <td>0</td>\n",
       "    </tr>\n",
       "    <tr>\n",
       "      <th>41997</th>\n",
       "      <td>7</td>\n",
       "      <td>0</td>\n",
       "      <td>0</td>\n",
       "      <td>0</td>\n",
       "      <td>0</td>\n",
       "      <td>0</td>\n",
       "      <td>0</td>\n",
       "      <td>0</td>\n",
       "      <td>0</td>\n",
       "      <td>0</td>\n",
       "      <td>...</td>\n",
       "      <td>0</td>\n",
       "      <td>0</td>\n",
       "      <td>0</td>\n",
       "      <td>0</td>\n",
       "      <td>0</td>\n",
       "      <td>0</td>\n",
       "      <td>0</td>\n",
       "      <td>0</td>\n",
       "      <td>0</td>\n",
       "      <td>0</td>\n",
       "    </tr>\n",
       "    <tr>\n",
       "      <th>41998</th>\n",
       "      <td>6</td>\n",
       "      <td>0</td>\n",
       "      <td>0</td>\n",
       "      <td>0</td>\n",
       "      <td>0</td>\n",
       "      <td>0</td>\n",
       "      <td>0</td>\n",
       "      <td>0</td>\n",
       "      <td>0</td>\n",
       "      <td>0</td>\n",
       "      <td>...</td>\n",
       "      <td>0</td>\n",
       "      <td>0</td>\n",
       "      <td>0</td>\n",
       "      <td>0</td>\n",
       "      <td>0</td>\n",
       "      <td>0</td>\n",
       "      <td>0</td>\n",
       "      <td>0</td>\n",
       "      <td>0</td>\n",
       "      <td>0</td>\n",
       "    </tr>\n",
       "    <tr>\n",
       "      <th>41999</th>\n",
       "      <td>9</td>\n",
       "      <td>0</td>\n",
       "      <td>0</td>\n",
       "      <td>0</td>\n",
       "      <td>0</td>\n",
       "      <td>0</td>\n",
       "      <td>0</td>\n",
       "      <td>0</td>\n",
       "      <td>0</td>\n",
       "      <td>0</td>\n",
       "      <td>...</td>\n",
       "      <td>0</td>\n",
       "      <td>0</td>\n",
       "      <td>0</td>\n",
       "      <td>0</td>\n",
       "      <td>0</td>\n",
       "      <td>0</td>\n",
       "      <td>0</td>\n",
       "      <td>0</td>\n",
       "      <td>0</td>\n",
       "      <td>0</td>\n",
       "    </tr>\n",
       "  </tbody>\n",
       "</table>\n",
       "<p>42000 rows × 785 columns</p>\n",
       "</div>"
      ],
      "text/plain": [
       "       label  pixel0  pixel1  pixel2  pixel3  pixel4  pixel5  pixel6  pixel7  \\\n",
       "0          1       0       0       0       0       0       0       0       0   \n",
       "1          0       0       0       0       0       0       0       0       0   \n",
       "2          1       0       0       0       0       0       0       0       0   \n",
       "3          4       0       0       0       0       0       0       0       0   \n",
       "4          0       0       0       0       0       0       0       0       0   \n",
       "...      ...     ...     ...     ...     ...     ...     ...     ...     ...   \n",
       "41995      0       0       0       0       0       0       0       0       0   \n",
       "41996      1       0       0       0       0       0       0       0       0   \n",
       "41997      7       0       0       0       0       0       0       0       0   \n",
       "41998      6       0       0       0       0       0       0       0       0   \n",
       "41999      9       0       0       0       0       0       0       0       0   \n",
       "\n",
       "       pixel8  ...  pixel774  pixel775  pixel776  pixel777  pixel778  \\\n",
       "0           0  ...         0         0         0         0         0   \n",
       "1           0  ...         0         0         0         0         0   \n",
       "2           0  ...         0         0         0         0         0   \n",
       "3           0  ...         0         0         0         0         0   \n",
       "4           0  ...         0         0         0         0         0   \n",
       "...       ...  ...       ...       ...       ...       ...       ...   \n",
       "41995       0  ...         0         0         0         0         0   \n",
       "41996       0  ...         0         0         0         0         0   \n",
       "41997       0  ...         0         0         0         0         0   \n",
       "41998       0  ...         0         0         0         0         0   \n",
       "41999       0  ...         0         0         0         0         0   \n",
       "\n",
       "       pixel779  pixel780  pixel781  pixel782  pixel783  \n",
       "0             0         0         0         0         0  \n",
       "1             0         0         0         0         0  \n",
       "2             0         0         0         0         0  \n",
       "3             0         0         0         0         0  \n",
       "4             0         0         0         0         0  \n",
       "...         ...       ...       ...       ...       ...  \n",
       "41995         0         0         0         0         0  \n",
       "41996         0         0         0         0         0  \n",
       "41997         0         0         0         0         0  \n",
       "41998         0         0         0         0         0  \n",
       "41999         0         0         0         0         0  \n",
       "\n",
       "[42000 rows x 785 columns]"
      ]
     },
     "execution_count": 4,
     "metadata": {},
     "output_type": "execute_result"
    }
   ],
   "source": [
    "A"
   ]
  },
  {
   "cell_type": "code",
   "execution_count": 11,
   "id": "df8a87be",
   "metadata": {},
   "outputs": [],
   "source": [
    "X = A.drop('label',axis=1).values"
   ]
  },
  {
   "cell_type": "code",
   "execution_count": 12,
   "id": "183fb062",
   "metadata": {},
   "outputs": [
    {
     "data": {
      "text/plain": [
       "array([[0, 0, 0, ..., 0, 0, 0],\n",
       "       [0, 0, 0, ..., 0, 0, 0],\n",
       "       [0, 0, 0, ..., 0, 0, 0],\n",
       "       ...,\n",
       "       [0, 0, 0, ..., 0, 0, 0],\n",
       "       [0, 0, 0, ..., 0, 0, 0],\n",
       "       [0, 0, 0, ..., 0, 0, 0]], dtype=int64)"
      ]
     },
     "execution_count": 12,
     "metadata": {},
     "output_type": "execute_result"
    }
   ],
   "source": [
    "X"
   ]
  },
  {
   "cell_type": "markdown",
   "id": "321b2892",
   "metadata": {},
   "source": [
    "# Visualizing one image by converting into 28*28"
   ]
  },
  {
   "cell_type": "code",
   "execution_count": 14,
   "id": "801beef9",
   "metadata": {},
   "outputs": [
    {
     "data": {
      "text/plain": [
       "<matplotlib.image.AxesImage at 0x2037aa521d0>"
      ]
     },
     "execution_count": 14,
     "metadata": {},
     "output_type": "execute_result"
    },
    {
     "data": {
      "image/png": "[encoded data removed]",
      "text/plain": [
       "<Figure size 432x288 with 1 Axes>"
      ]
     },
     "metadata": {
      "needs_background": "light"
     },
     "output_type": "display_data"
    }
   ],
   "source": [
    "import matplotlib.pyplot as plt\n",
    "plt.imshow(X[13:14].reshape(28,28),cmap=plt.cm.binary)"
   ]
  },
  {
   "cell_type": "code",
   "execution_count": 18,
   "id": "79183065",
   "metadata": {},
   "outputs": [
    {
     "data": {
      "text/plain": [
       "13    3\n",
       "Name: label, dtype: int64"
      ]
     },
     "execution_count": 18,
     "metadata": {},
     "output_type": "execute_result"
    }
   ],
   "source": [
    "A.label[13:14]"
   ]
  },
  {
   "cell_type": "markdown",
   "id": "1f60d9cf",
   "metadata": {},
   "source": [
    "# Defining X and Y in array format"
   ]
  },
  {
   "cell_type": "code",
   "execution_count": 19,
   "id": "8911008e",
   "metadata": {},
   "outputs": [],
   "source": [
    "Y = A.label.values"
   ]
  },
  {
   "cell_type": "code",
   "execution_count": 27,
   "id": "1e6cc957",
   "metadata": {},
   "outputs": [],
   "source": [
    "Y_cat = pd.get_dummies(Y).values"
   ]
  },
  {
   "cell_type": "code",
   "execution_count": 28,
   "id": "bc82be26",
   "metadata": {},
   "outputs": [
    {
     "data": {
      "text/plain": [
       "array([[0, 1, 0, ..., 0, 0, 0],\n",
       "       [1, 0, 0, ..., 0, 0, 0],\n",
       "       [0, 1, 0, ..., 0, 0, 0],\n",
       "       ...,\n",
       "       [0, 0, 0, ..., 1, 0, 0],\n",
       "       [0, 0, 0, ..., 0, 0, 0],\n",
       "       [0, 0, 0, ..., 0, 0, 1]], dtype=uint8)"
      ]
     },
     "execution_count": 28,
     "metadata": {},
     "output_type": "execute_result"
    }
   ],
   "source": [
    "Y_cat"
   ]
  },
  {
   "cell_type": "markdown",
   "id": "61c0388c",
   "metadata": {},
   "source": [
    "# Scale X"
   ]
  },
  {
   "cell_type": "code",
   "execution_count": 29,
   "id": "278f973e",
   "metadata": {},
   "outputs": [],
   "source": [
    "X_scaled = X/255"
   ]
  },
  {
   "cell_type": "code",
   "execution_count": 31,
   "id": "0513606f",
   "metadata": {},
   "outputs": [
    {
     "data": {
      "text/plain": [
       "array([[0., 0., 0., ..., 0., 0., 0.],\n",
       "       [0., 0., 0., ..., 0., 0., 0.],\n",
       "       [0., 0., 0., ..., 0., 0., 0.],\n",
       "       ...,\n",
       "       [0., 0., 0., ..., 0., 0., 0.],\n",
       "       [0., 0., 0., ..., 0., 0., 0.],\n",
       "       [0., 0., 0., ..., 0., 0., 0.]])"
      ]
     },
     "execution_count": 31,
     "metadata": {},
     "output_type": "execute_result"
    }
   ],
   "source": [
    "X_scaled"
   ]
  },
  {
   "cell_type": "code",
   "execution_count": 56,
   "id": "57eca46d",
   "metadata": {},
   "outputs": [],
   "source": [
    "from sklearn.model_selection import train_test_split\n",
    "xtrain,xtest,ytain,ytest = train_test_split(X_scaled,Y_cat,test_size=0.2,random_state=21)"
   ]
  },
  {
   "cell_type": "code",
   "execution_count": 58,
   "id": "20bc57ef",
   "metadata": {},
   "outputs": [
    {
     "data": {
      "text/plain": [
       "(33600, 784)"
      ]
     },
     "execution_count": 58,
     "metadata": {},
     "output_type": "execute_result"
    }
   ],
   "source": [
    "xtrain.shape"
   ]
  },
  {
   "cell_type": "code",
   "execution_count": 59,
   "id": "e9e78e63",
   "metadata": {},
   "outputs": [
    {
     "data": {
      "text/plain": [
       "(8400, 784)"
      ]
     },
     "execution_count": 59,
     "metadata": {},
     "output_type": "execute_result"
    }
   ],
   "source": [
    "xtest.shape"
   ]
  },
  {
   "cell_type": "code",
   "execution_count": 60,
   "id": "d93992ec",
   "metadata": {},
   "outputs": [],
   "source": [
    "xtrain = xtrain.reshape(33600,28,28,1)\n",
    "xtest = xtest.reshape(8400,28,28,1)"
   ]
  },
  {
   "cell_type": "code",
   "execution_count": 61,
   "id": "4e3657eb",
   "metadata": {},
   "outputs": [
    {
     "data": {
      "text/plain": [
       "(33600, 28, 28, 1)"
      ]
     },
     "execution_count": 61,
     "metadata": {},
     "output_type": "execute_result"
    }
   ],
   "source": [
    "xtrain.shape"
   ]
  },
  {
   "cell_type": "markdown",
   "id": "7e218046",
   "metadata": {},
   "source": [
    "# Creating a NN"
   ]
  },
  {
   "cell_type": "code",
   "execution_count": 39,
   "id": "7f3d2a0a",
   "metadata": {},
   "outputs": [],
   "source": [
    "from keras.models import Sequential\n",
    "from keras.layers import Dense,Dropout,Convolution2D,MaxPooling2D,BatchNormalization,Flatten"
   ]
  },
  {
   "cell_type": "code",
   "execution_count": 40,
   "id": "6da614cb",
   "metadata": {},
   "outputs": [],
   "source": [
    "nn = Sequential()\n",
    "nn.add(Convolution2D(filters=16,kernel_size=(3,3),activation='relu',input_shape=(28,28,1)))\n",
    "nn.add(MaxPooling2D(pool_size=(2,2)))\n",
    "nn.add(BatchNormalization())\n",
    "nn.add(Dropout(0.2))\n",
    "nn.add(Flatten())\n",
    "\n",
    "nn.add(Dense(120,activation='relu'))\n",
    "nn.add(Dense(10,activation='softmax'))"
   ]
  },
  {
   "cell_type": "code",
   "execution_count": 41,
   "id": "24f46533",
   "metadata": {},
   "outputs": [],
   "source": [
    "nn.compile(optimizer='adam',loss='categorical_crossentropy',metrics=['accuracy'])"
   ]
  },
  {
   "cell_type": "code",
   "execution_count": 52,
   "id": "951e078a",
   "metadata": {},
   "outputs": [
    {
     "name": "stdout",
     "output_type": "stream",
     "text": [
      "Epoch 1/50\n",
      "525/525 [==============================] - 8s 15ms/step - loss: 0.0167 - accuracy: 0.9942\n",
      "Epoch 2/50\n",
      "525/525 [==============================] - 9s 16ms/step - loss: 0.0166 - accuracy: 0.9941\n",
      "Epoch 3/50\n",
      "525/525 [==============================] - 8s 15ms/step - loss: 0.0127 - accuracy: 0.9953\n",
      "Epoch 4/50\n",
      "525/525 [==============================] - 8s 16ms/step - loss: 0.0135 - accuracy: 0.9952\n",
      "Epoch 5/50\n",
      "525/525 [==============================] - 8s 15ms/step - loss: 0.0135 - accuracy: 0.9956\n",
      "Epoch 6/50\n",
      "525/525 [==============================] - 9s 17ms/step - loss: 0.0115 - accuracy: 0.9965\n",
      "Epoch 7/50\n",
      "525/525 [==============================] - 9s 18ms/step - loss: 0.0086 - accuracy: 0.9969\n",
      "Epoch 8/50\n",
      "525/525 [==============================] - 10s 18ms/step - loss: 0.0069 - accuracy: 0.9975\n",
      "Epoch 9/50\n",
      "525/525 [==============================] - 9s 18ms/step - loss: 0.0091 - accuracy: 0.9971\n",
      "Epoch 10/50\n",
      "525/525 [==============================] - 9s 18ms/step - loss: 0.0106 - accuracy: 0.9966\n",
      "Epoch 11/50\n",
      "525/525 [==============================] - 9s 18ms/step - loss: 0.0085 - accuracy: 0.9973\n",
      "Epoch 12/50\n",
      "525/525 [==============================] - 9s 18ms/step - loss: 0.0074 - accuracy: 0.9974\n",
      "Epoch 13/50\n",
      "525/525 [==============================] - 10s 19ms/step - loss: 0.0087 - accuracy: 0.9971\n",
      "Epoch 14/50\n",
      "525/525 [==============================] - 10s 18ms/step - loss: 0.0092 - accuracy: 0.9971\n",
      "Epoch 15/50\n",
      "525/525 [==============================] - 10s 18ms/step - loss: 0.0066 - accuracy: 0.9979\n",
      "Epoch 16/50\n",
      "525/525 [==============================] - 10s 19ms/step - loss: 0.0048 - accuracy: 0.9982\n",
      "Epoch 17/50\n",
      "525/525 [==============================] - 10s 19ms/step - loss: 0.0076 - accuracy: 0.9976\n",
      "Epoch 18/50\n",
      "525/525 [==============================] - 10s 19ms/step - loss: 0.0102 - accuracy: 0.9965\n",
      "Epoch 19/50\n",
      "525/525 [==============================] - 9s 18ms/step - loss: 0.0056 - accuracy: 0.9983\n",
      "Epoch 20/50\n",
      "525/525 [==============================] - 9s 18ms/step - loss: 0.0042 - accuracy: 0.9986\n",
      "Epoch 21/50\n",
      "525/525 [==============================] - 9s 17ms/step - loss: 0.0040 - accuracy: 0.9987\n",
      "Epoch 22/50\n",
      "525/525 [==============================] - 11s 21ms/step - loss: 0.0044 - accuracy: 0.9985\n",
      "Epoch 23/50\n",
      "525/525 [==============================] - 11s 21ms/step - loss: 0.0045 - accuracy: 0.9985\n",
      "Epoch 24/50\n",
      "525/525 [==============================] - 10s 20ms/step - loss: 0.0059 - accuracy: 0.9983\n",
      "Epoch 25/50\n",
      "525/525 [==============================] - 10s 19ms/step - loss: 0.0058 - accuracy: 0.9983\n",
      "Epoch 26/50\n",
      "525/525 [==============================] - 10s 20ms/step - loss: 0.0089 - accuracy: 0.9974\n",
      "Epoch 27/50\n",
      "525/525 [==============================] - 10s 18ms/step - loss: 0.0049 - accuracy: 0.9984\n",
      "Epoch 28/50\n",
      "525/525 [==============================] - 10s 18ms/step - loss: 0.0030 - accuracy: 0.9990\n",
      "Epoch 29/50\n",
      "525/525 [==============================] - 10s 18ms/step - loss: 0.0023 - accuracy: 0.9995\n",
      "Epoch 30/50\n",
      "525/525 [==============================] - 10s 19ms/step - loss: 0.0035 - accuracy: 0.9990\n",
      "Epoch 31/50\n",
      "525/525 [==============================] - 11s 20ms/step - loss: 0.0045 - accuracy: 0.9985\n",
      "Epoch 32/50\n",
      "525/525 [==============================] - 10s 19ms/step - loss: 0.0085 - accuracy: 0.9974\n",
      "Epoch 33/50\n",
      "525/525 [==============================] - 9s 18ms/step - loss: 0.0056 - accuracy: 0.9985\n",
      "Epoch 34/50\n",
      "525/525 [==============================] - 10s 19ms/step - loss: 0.0055 - accuracy: 0.9982\n",
      "Epoch 35/50\n",
      "525/525 [==============================] - 10s 19ms/step - loss: 0.0032 - accuracy: 0.9991\n",
      "Epoch 36/50\n",
      "525/525 [==============================] - 10s 19ms/step - loss: 0.0045 - accuracy: 0.9983\n",
      "Epoch 37/50\n",
      "525/525 [==============================] - 11s 20ms/step - loss: 0.0053 - accuracy: 0.9987\n",
      "Epoch 38/50\n",
      "525/525 [==============================] - 10s 18ms/step - loss: 0.0047 - accuracy: 0.9986\n",
      "Epoch 39/50\n",
      "525/525 [==============================] - 9s 18ms/step - loss: 0.0067 - accuracy: 0.9984\n",
      "Epoch 40/50\n",
      "525/525 [==============================] - 10s 18ms/step - loss: 0.0026 - accuracy: 0.9993\n",
      "Epoch 41/50\n",
      "525/525 [==============================] - 10s 19ms/step - loss: 0.0029 - accuracy: 0.9990\n",
      "Epoch 42/50\n",
      "525/525 [==============================] - 10s 18ms/step - loss: 0.0032 - accuracy: 0.9991\n",
      "Epoch 43/50\n",
      "525/525 [==============================] - 10s 19ms/step - loss: 0.0051 - accuracy: 0.9987\n",
      "Epoch 44/50\n",
      "525/525 [==============================] - 10s 18ms/step - loss: 0.0035 - accuracy: 0.9990\n",
      "Epoch 45/50\n",
      "525/525 [==============================] - 10s 19ms/step - loss: 0.0043 - accuracy: 0.9988\n",
      "Epoch 46/50\n",
      "525/525 [==============================] - 10s 18ms/step - loss: 0.0040 - accuracy: 0.9990\n",
      "Epoch 47/50\n",
      "525/525 [==============================] - 10s 19ms/step - loss: 0.0025 - accuracy: 0.9993\n",
      "Epoch 48/50\n",
      "525/525 [==============================] - 9s 18ms/step - loss: 0.0036 - accuracy: 0.9989\n",
      "Epoch 49/50\n",
      "525/525 [==============================] - 10s 19ms/step - loss: 0.0036 - accuracy: 0.9990\n",
      "Epoch 50/50\n",
      "525/525 [==============================] - 10s 18ms/step - loss: 0.0042 - accuracy: 0.9987\n"
     ]
    },
    {
     "data": {
      "text/plain": [
       "<keras.callbacks.History at 0x2035549f100>"
      ]
     },
     "execution_count": 52,
     "metadata": {},
     "output_type": "execute_result"
    }
   ],
   "source": [
    "nn.fit(xtrain,ytain,epochs=50,batch_size=64)"
   ]
  },
  {
   "cell_type": "code",
   "execution_count": 62,
   "id": "6831186f",
   "metadata": {},
   "outputs": [],
   "source": [
    "pred_prob = nn.predict(xtest)"
   ]
  },
  {
   "cell_type": "code",
   "execution_count": 63,
   "id": "bef6dc16",
   "metadata": {},
   "outputs": [],
   "source": [
    "from numpy import argmax\n",
    "pred = argmax(pred_prob,axis=1)"
   ]
  },
  {
   "cell_type": "code",
   "execution_count": 64,
   "id": "ee618b66",
   "metadata": {},
   "outputs": [],
   "source": [
    "ytest =argmax(ytest,axis=1)"
   ]
  },
  {
   "cell_type": "code",
   "execution_count": 65,
   "id": "ed6da08f",
   "metadata": {},
   "outputs": [
    {
     "data": {
      "text/plain": [
       "array([1, 4, 2, ..., 0, 1, 2], dtype=int64)"
      ]
     },
     "execution_count": 65,
     "metadata": {},
     "output_type": "execute_result"
    }
   ],
   "source": [
    "ytest"
   ]
  },
  {
   "cell_type": "code",
   "execution_count": 66,
   "id": "3a5f244e",
   "metadata": {},
   "outputs": [
    {
     "data": {
      "text/plain": [
       "0.9864285714285714"
      ]
     },
     "execution_count": 66,
     "metadata": {},
     "output_type": "execute_result"
    }
   ],
   "source": [
    "from sklearn.metrics import accuracy_score,confusion_matrix\n",
    "accuracy_score(ytest,pred)"
   ]
  },
  {
   "cell_type": "code",
   "execution_count": 67,
   "id": "acdc5e36",
   "metadata": {},
   "outputs": [
    {
     "data": {
      "text/plain": [
       "array([[803,   1,   0,   0,   0,   0,   6,   1,   2,   1],\n",
       "       [  0, 881,   8,   0,   1,   0,   0,   1,   2,   0],\n",
       "       [  0,   1, 790,   0,   0,   0,   0,   3,   2,   0],\n",
       "       [  0,   0,   4, 813,   0,   3,   0,   4,   2,   2],\n",
       "       [  2,   2,   1,   0, 818,   0,   4,   1,   0,   1],\n",
       "       [  1,   0,   1,   1,   0, 800,   2,   0,   1,   0],\n",
       "       [  2,   1,   0,   0,   4,   1, 877,   0,   3,   0],\n",
       "       [  0,   1,   7,   0,   0,   1,   0, 875,   2,   0],\n",
       "       [  1,   1,   2,   1,   1,   2,   3,   0, 788,   4],\n",
       "       [  3,   1,   0,   0,   6,   3,   0,   2,   1, 841]], dtype=int64)"
      ]
     },
     "execution_count": 67,
     "metadata": {},
     "output_type": "execute_result"
    }
   ],
   "source": [
    "confusion_matrix(ytest,pred)"
   ]
  },
  {
   "cell_type": "code",
   "execution_count": null,
   "id": "305b214b",
   "metadata": {},
   "outputs": [],
   "source": []
  }
 ],
 "metadata": {
  "kernelspec": {
   "display_name": "Python 3 (ipykernel)",
   "language": "python",
   "name": "python3"
  },
  "language_info": {
   "codemirror_mode": {
    "name": "ipython",
    "version": 3
   },
   "file_extension": ".py",
   "mimetype": "text/x-python",
   "name": "python",
   "nbconvert_exporter": "python",
   "pygments_lexer": "ipython3",
   "version": "3.10.0"
  }
 },
 "nbformat": 4,
 "nbformat_minor": 5
}
